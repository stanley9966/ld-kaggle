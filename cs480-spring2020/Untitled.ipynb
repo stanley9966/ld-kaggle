{
 "cells": [
  {
   "cell_type": "code",
   "execution_count": 40,
   "metadata": {},
   "outputs": [],
   "source": [
    "import pandas as pd\n",
    "from sklearn.feature_extraction.text import TfidfVectorizer\n",
    "from sklearn.feature_selection import chi2\n",
    "import numpy as np\n",
    "\n",
    "# TODO: for now, removing all text columns\n",
    "# Data preprocessing\n",
    "df = pd.read_csv('train.csv')\n",
    "textcols = ['name', 'description', 'published', 'modified', 'links', 'link-tags']\n",
    "df.drop(columns=textcols, inplace=True) # Removing text columns for now\n",
    "df.drop(columns=['id', 'slug', 'path', 'version'], inplace=True) # Removing some useless columns\n",
    "df['category'] = df['category'].factorize()[0]\n",
    "train_X = df.drop('label', axis=1)\n",
    "train_y = df['label']\n",
    "#df.head(10)\n",
    "\n",
    "# NLP STUFF\n",
    "# Converting text to tf-idf features for text columns NLP\n",
    "# vectorizer = TfidfVectorizer( max_features = 500, ngram_range=(1, 2), stop_words='english')\n",
    "# X = vectorizer.fit_transform(df['name'].values.astype('U'))\n",
    "#df.head(10)\n",
    "\n",
    "# Todo:\n",
    "# published, modified timestamps.. interpretable format\n",
    "# change links to number of links..."
   ]
  },
  {
   "cell_type": "code",
   "execution_count": 52,
   "metadata": {},
   "outputs": [
    {
     "data": {
      "text/plain": [
       "0.942773829050483"
      ]
     },
     "execution_count": 52,
     "metadata": {},
     "output_type": "execute_result"
    }
   ],
   "source": [
    "# Random forest\n",
    "from sklearn.ensemble import RandomForestClassifier\n",
    "rfc = RandomForestClassifier(n_estimators=200, oob_score=True)\n",
    "rfc.fit(train_X, train_y)\n",
    "rfc.oob_score_"
   ]
  },
  {
   "cell_type": "code",
   "execution_count": 51,
   "metadata": {},
   "outputs": [],
   "source": [
    "# Preprocessing test data\n",
    "import csv\n",
    "df = pd.read_csv('test.csv')\n",
    "textcols = ['name', 'description', 'published', 'modified', 'links', 'link-tags']\n",
    "df.drop(columns=textcols, inplace=True) # Removing text columns for now\n",
    "df.drop(columns=['id', 'slug', 'path', 'version'], inplace=True) # Removing some useless columns\n",
    "df['category'] = df['category'].factorize()[0]\n",
    "test_X = df\n",
    "\n",
    "pred = rfc.predict(test_X)\n",
    "with open('submission.csv', 'w', newline='') as file:\n",
    "    writer = csv.writer(file)\n",
    "    writer.writerow([\"id\",\"label\"])\n",
    "    for i, p in zip(pd.read_csv('test.csv')['id'], pred):\n",
    "        writer.writerow([i, p])"
   ]
  },
  {
   "cell_type": "code",
   "execution_count": null,
   "metadata": {},
   "outputs": [],
   "source": [
    "# Cross validation"
   ]
  },
  {
   "cell_type": "code",
   "execution_count": 7,
   "metadata": {},
   "outputs": [
    {
     "data": {
      "text/plain": [
       "0    8496\n",
       "3    7524\n",
       "4    5523\n",
       "2     381\n",
       "5      23\n",
       "1       1\n",
       "Name: label, dtype: int64"
      ]
     },
     "execution_count": 7,
     "metadata": {},
     "output_type": "execute_result"
    }
   ],
   "source": [
    "# Imbalanced classes, leaving as is for now\n",
    "train_data['label'].value_counts()"
   ]
  },
  {
   "cell_type": "code",
   "execution_count": null,
   "metadata": {},
   "outputs": [],
   "source": [
    "# Things to consider:\n",
    "# don't train on id column\n",
    "# incorporate number of nan values to predict 0\n",
    "# Regularized random forest\n"
   ]
  }
 ],
 "metadata": {
  "kernelspec": {
   "display_name": "Python 3",
   "language": "python",
   "name": "python3"
  },
  "language_info": {
   "codemirror_mode": {
    "name": "ipython",
    "version": 3
   },
   "file_extension": ".py",
   "mimetype": "text/x-python",
   "name": "python",
   "nbconvert_exporter": "python",
   "pygments_lexer": "ipython3",
   "version": "3.7.4"
  }
 },
 "nbformat": 4,
 "nbformat_minor": 2
}
